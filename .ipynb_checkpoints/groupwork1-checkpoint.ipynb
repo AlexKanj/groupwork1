{
 "cells": [
  {
   "cell_type": "code",
   "execution_count": 5,
   "metadata": {},
   "outputs": [
    {
     "name": "stdin",
     "output_type": "stream",
     "text": [
      "What is your name: Aidan\n",
      "How old are you: 18\n",
      "Please input your height in meters 5\n",
      "Please input your weight in kilograms 100\n"
     ]
    },
    {
     "name": "stdout",
     "output_type": "stream",
     "text": [
      "Hi Aidan, you are 18! Your BMI is 4.0!\n"
     ]
    }
   ],
   "source": [
    "name = input(\"What is your name:\")\n",
    "age = input(\"How old are you:\")\n",
    "height = input(\"Please input your height in meters\")\n",
    "weight = input(\"Please input your weight in kilograms\")\n",
    "bmi = int(weight)/(int(height)**2)\n",
    "print(\"Hi \" + name + \", you are \" + age + \"! Your BMI is \" + str(bmi) +\"!\")"
   ]
  },
  {
   "cell_type": "code",
   "execution_count": null,
   "metadata": {},
   "outputs": [],
   "source": []
  }
 ],
 "metadata": {
  "kernelspec": {
   "display_name": "Python 3",
   "language": "python",
   "name": "python3"
  },
  "language_info": {
   "codemirror_mode": {
    "name": "ipython",
    "version": 3
   },
   "file_extension": ".py",
   "mimetype": "text/x-python",
   "name": "python",
   "nbconvert_exporter": "python",
   "pygments_lexer": "ipython3",
   "version": "3.8.3"
  }
 },
 "nbformat": 4,
 "nbformat_minor": 4
}
